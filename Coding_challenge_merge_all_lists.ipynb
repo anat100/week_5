{
 "cells": [
  {
   "cell_type": "code",
   "execution_count": 9,
   "id": "bf63bdd3",
   "metadata": {},
   "outputs": [],
   "source": [
    "# import the needed libraries \n",
    "\n",
    "import pandas as pd\n",
    "import glob"
   ]
  },
  {
   "cell_type": "markdown",
   "id": "ecaf8ec8",
   "metadata": {},
   "source": [
    "## 1. Start by reading a sample of the data "
   ]
  },
  {
   "cell_type": "code",
   "execution_count": 10,
   "id": "29d06ccb",
   "metadata": {},
   "outputs": [],
   "source": [
    "# let's read a sample of the data \n",
    "\n",
    "df = pd.read_csv('./data/pis_1.csv', sep=';')"
   ]
  },
  {
   "cell_type": "code",
   "execution_count": 11,
   "id": "517a9950",
   "metadata": {},
   "outputs": [
    {
     "data": {
      "text/html": [
       "<div>\n",
       "<style scoped>\n",
       "    .dataframe tbody tr th:only-of-type {\n",
       "        vertical-align: middle;\n",
       "    }\n",
       "\n",
       "    .dataframe tbody tr th {\n",
       "        vertical-align: top;\n",
       "    }\n",
       "\n",
       "    .dataframe thead th {\n",
       "        text-align: right;\n",
       "    }\n",
       "</style>\n",
       "<table border=\"1\" class=\"dataframe\">\n",
       "  <thead>\n",
       "    <tr style=\"text-align: right;\">\n",
       "      <th></th>\n",
       "      <th>category,month,year,clicks</th>\n",
       "    </tr>\n",
       "  </thead>\n",
       "  <tbody>\n",
       "    <tr>\n",
       "      <th>0</th>\n",
       "      <td>men's low shoes,12,2021,82951.0</td>\n",
       "    </tr>\n",
       "    <tr>\n",
       "      <th>1</th>\n",
       "      <td>men's low shoes,2,2021,75533.0</td>\n",
       "    </tr>\n",
       "    <tr>\n",
       "      <th>2</th>\n",
       "      <td>men's low shoes,8,2021,86342.0</td>\n",
       "    </tr>\n",
       "    <tr>\n",
       "      <th>3</th>\n",
       "      <td>men's low shoes,10,2021,99433.0</td>\n",
       "    </tr>\n",
       "    <tr>\n",
       "      <th>4</th>\n",
       "      <td>men's low shoes,7,2021,81017.0</td>\n",
       "    </tr>\n",
       "    <tr>\n",
       "      <th>5</th>\n",
       "      <td>men's low shoes,9,2021,92678.0</td>\n",
       "    </tr>\n",
       "    <tr>\n",
       "      <th>6</th>\n",
       "      <td>men's low shoes,4,2021,92869.0</td>\n",
       "    </tr>\n",
       "    <tr>\n",
       "      <th>7</th>\n",
       "      <td>men's low shoes,6,2021,73078.0</td>\n",
       "    </tr>\n",
       "    <tr>\n",
       "      <th>8</th>\n",
       "      <td>men's low shoes,1,2021,86503.0</td>\n",
       "    </tr>\n",
       "    <tr>\n",
       "      <th>9</th>\n",
       "      <td>men's low shoes,3,2021,</td>\n",
       "    </tr>\n",
       "    <tr>\n",
       "      <th>10</th>\n",
       "      <td>men's low shoes,5,2021,93879.0</td>\n",
       "    </tr>\n",
       "    <tr>\n",
       "      <th>11</th>\n",
       "      <td>men's low shoes,11,2021,103735.0</td>\n",
       "    </tr>\n",
       "  </tbody>\n",
       "</table>\n",
       "</div>"
      ],
      "text/plain": [
       "          category,month,year,clicks\n",
       "0    men's low shoes,12,2021,82951.0\n",
       "1     men's low shoes,2,2021,75533.0\n",
       "2     men's low shoes,8,2021,86342.0\n",
       "3    men's low shoes,10,2021,99433.0\n",
       "4     men's low shoes,7,2021,81017.0\n",
       "5     men's low shoes,9,2021,92678.0\n",
       "6     men's low shoes,4,2021,92869.0\n",
       "7     men's low shoes,6,2021,73078.0\n",
       "8     men's low shoes,1,2021,86503.0\n",
       "9            men's low shoes,3,2021,\n",
       "10    men's low shoes,5,2021,93879.0\n",
       "11  men's low shoes,11,2021,103735.0"
      ]
     },
     "execution_count": 11,
     "metadata": {},
     "output_type": "execute_result"
    }
   ],
   "source": [
    "# let's first look at a sample data\n",
    "\n",
    "df"
   ]
  },
  {
   "cell_type": "markdown",
   "id": "9352445b",
   "metadata": {},
   "source": [
    " ## 2. Merge all 100 lists \n"
   ]
  },
  {
   "cell_type": "code",
   "execution_count": 12,
   "id": "a809b193",
   "metadata": {},
   "outputs": [],
   "source": [
    "\n",
    "# Step 1: Define the path to your CSV files\n",
    "\n",
    "csv_files = glob.glob('data/*.csv')\n",
    "\n"
   ]
  },
  {
   "cell_type": "code",
   "execution_count": 13,
   "id": "81240bab",
   "metadata": {},
   "outputs": [],
   "source": [
    "# Step 2: Initialize an empty list to store DataFrames\n",
    "dataframes = []"
   ]
  },
  {
   "cell_type": "code",
   "execution_count": 14,
   "id": "cb2384fa",
   "metadata": {},
   "outputs": [],
   "source": [
    "# Loop through each CSV file and read it into a DataFrame\n",
    "\n",
    "for csv_file in csv_files:\n",
    "    df = pd.read_csv(csv_file)\n",
    "    dataframes.append(df)"
   ]
  },
  {
   "cell_type": "code",
   "execution_count": 15,
   "id": "7c2aab23",
   "metadata": {},
   "outputs": [],
   "source": [
    "# Step 3: Concatenate the DataFrames into one large DataFrame\n",
    "\n",
    "merged_df = pd.concat(dataframes, ignore_index=True)"
   ]
  },
  {
   "cell_type": "code",
   "execution_count": 16,
   "id": "c470c3dc",
   "metadata": {},
   "outputs": [],
   "source": [
    "# Step 4: Save the merged DataFrame to a new CSV file\n",
    "\n",
    "merged_df.to_csv('merged_data.csv', index=False)"
   ]
  },
  {
   "cell_type": "code",
   "execution_count": 17,
   "id": "69c4b621",
   "metadata": {},
   "outputs": [],
   "source": [
    "merged_df = pd.read_csv('merged_data.csv')"
   ]
  },
  {
   "cell_type": "code",
   "execution_count": 18,
   "id": "d8954d79",
   "metadata": {},
   "outputs": [
    {
     "data": {
      "text/html": [
       "<div>\n",
       "<style scoped>\n",
       "    .dataframe tbody tr th:only-of-type {\n",
       "        vertical-align: middle;\n",
       "    }\n",
       "\n",
       "    .dataframe tbody tr th {\n",
       "        vertical-align: top;\n",
       "    }\n",
       "\n",
       "    .dataframe thead th {\n",
       "        text-align: right;\n",
       "    }\n",
       "</style>\n",
       "<table border=\"1\" class=\"dataframe\">\n",
       "  <thead>\n",
       "    <tr style=\"text-align: right;\">\n",
       "      <th></th>\n",
       "      <th>category</th>\n",
       "      <th>month</th>\n",
       "      <th>year</th>\n",
       "      <th>clicks</th>\n",
       "    </tr>\n",
       "  </thead>\n",
       "  <tbody>\n",
       "    <tr>\n",
       "      <th>0</th>\n",
       "      <td>Coffee machine cleaning</td>\n",
       "      <td>3</td>\n",
       "      <td>2021</td>\n",
       "      <td>64776.0</td>\n",
       "    </tr>\n",
       "    <tr>\n",
       "      <th>1</th>\n",
       "      <td>Coffee machine cleaning</td>\n",
       "      <td>8</td>\n",
       "      <td>2021</td>\n",
       "      <td>49835.0</td>\n",
       "    </tr>\n",
       "    <tr>\n",
       "      <th>2</th>\n",
       "      <td>Coffee machine cleaning</td>\n",
       "      <td>12</td>\n",
       "      <td>2021</td>\n",
       "      <td>61787.0</td>\n",
       "    </tr>\n",
       "    <tr>\n",
       "      <th>3</th>\n",
       "      <td>Coffee machine cleaning</td>\n",
       "      <td>9</td>\n",
       "      <td>2021</td>\n",
       "      <td>51273.0</td>\n",
       "    </tr>\n",
       "    <tr>\n",
       "      <th>4</th>\n",
       "      <td>Coffee machine cleaning</td>\n",
       "      <td>11</td>\n",
       "      <td>2021</td>\n",
       "      <td>64788.0</td>\n",
       "    </tr>\n",
       "    <tr>\n",
       "      <th>...</th>\n",
       "      <td>...</td>\n",
       "      <td>...</td>\n",
       "      <td>...</td>\n",
       "      <td>...</td>\n",
       "    </tr>\n",
       "    <tr>\n",
       "      <th>1195</th>\n",
       "      <td>outdoor navigation</td>\n",
       "      <td>3</td>\n",
       "      <td>2021</td>\n",
       "      <td>NaN</td>\n",
       "    </tr>\n",
       "    <tr>\n",
       "      <th>1196</th>\n",
       "      <td>outdoor navigation</td>\n",
       "      <td>12</td>\n",
       "      <td>2021</td>\n",
       "      <td>58532.0</td>\n",
       "    </tr>\n",
       "    <tr>\n",
       "      <th>1197</th>\n",
       "      <td>outdoor navigation</td>\n",
       "      <td>2</td>\n",
       "      <td>2021</td>\n",
       "      <td>47455.0</td>\n",
       "    </tr>\n",
       "    <tr>\n",
       "      <th>1198</th>\n",
       "      <td>outdoor navigation</td>\n",
       "      <td>10</td>\n",
       "      <td>2021</td>\n",
       "      <td>47619.0</td>\n",
       "    </tr>\n",
       "    <tr>\n",
       "      <th>1199</th>\n",
       "      <td>outdoor navigation</td>\n",
       "      <td>8</td>\n",
       "      <td>2021</td>\n",
       "      <td>69570.0</td>\n",
       "    </tr>\n",
       "  </tbody>\n",
       "</table>\n",
       "<p>1200 rows × 4 columns</p>\n",
       "</div>"
      ],
      "text/plain": [
       "                     category  month  year   clicks\n",
       "0     Coffee machine cleaning      3  2021  64776.0\n",
       "1     Coffee machine cleaning      8  2021  49835.0\n",
       "2     Coffee machine cleaning     12  2021  61787.0\n",
       "3     Coffee machine cleaning      9  2021  51273.0\n",
       "4     Coffee machine cleaning     11  2021  64788.0\n",
       "...                       ...    ...   ...      ...\n",
       "1195       outdoor navigation      3  2021      NaN\n",
       "1196       outdoor navigation     12  2021  58532.0\n",
       "1197       outdoor navigation      2  2021  47455.0\n",
       "1198       outdoor navigation     10  2021  47619.0\n",
       "1199       outdoor navigation      8  2021  69570.0\n",
       "\n",
       "[1200 rows x 4 columns]"
      ]
     },
     "execution_count": 18,
     "metadata": {},
     "output_type": "execute_result"
    }
   ],
   "source": [
    "merged_df"
   ]
  },
  {
   "cell_type": "code",
   "execution_count": null,
   "id": "75d404c5",
   "metadata": {},
   "outputs": [],
   "source": []
  },
  {
   "cell_type": "code",
   "execution_count": null,
   "id": "bda51fad",
   "metadata": {},
   "outputs": [],
   "source": []
  }
 ],
 "metadata": {
  "kernelspec": {
   "display_name": "Python 3 (ipykernel)",
   "language": "python",
   "name": "python3"
  },
  "language_info": {
   "codemirror_mode": {
    "name": "ipython",
    "version": 3
   },
   "file_extension": ".py",
   "mimetype": "text/x-python",
   "name": "python",
   "nbconvert_exporter": "python",
   "pygments_lexer": "ipython3",
   "version": "3.11.4"
  }
 },
 "nbformat": 4,
 "nbformat_minor": 5
}
