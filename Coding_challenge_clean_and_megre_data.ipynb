{
 "cells": [
  {
   "cell_type": "code",
   "execution_count": 17,
   "id": "15adcf86",
   "metadata": {},
   "outputs": [],
   "source": [
    "# import the needed libraries \n",
    "\n",
    "import pandas as pd\n",
    "import glob"
   ]
  },
  {
   "cell_type": "markdown",
   "id": "82e2b0d0",
   "metadata": {},
   "source": [
    "## Merge all 100 lists "
   ]
  },
  {
   "cell_type": "code",
   "execution_count": 18,
   "id": "ea66de79",
   "metadata": {},
   "outputs": [],
   "source": [
    "# Step 1: Define the path to your CSV files\n",
    "\n",
    "csv_files1 = glob.glob('data/*.csv')\n"
   ]
  },
  {
   "cell_type": "code",
   "execution_count": 19,
   "id": "811aa871",
   "metadata": {},
   "outputs": [],
   "source": [
    "# Step 2: Initialize an empty list to store DataFrames\n",
    "dataframes = []"
   ]
  },
  {
   "cell_type": "code",
   "execution_count": 20,
   "id": "891d7ded",
   "metadata": {},
   "outputs": [],
   "source": [
    "# Loop through each CSV file and read it into a DataFrame\n",
    "\n",
    "for csv_file1 in csv_files1:\n",
    "    df = pd.read_csv(csv_file1)\n",
    "    dataframes.append(df)"
   ]
  },
  {
   "cell_type": "code",
   "execution_count": 21,
   "id": "89849407",
   "metadata": {},
   "outputs": [],
   "source": [
    "# Step 3: Concatenate the DataFrames into one large DataFrame\n",
    "\n",
    "merged_df1 = pd.concat(dataframes, ignore_index=True)"
   ]
  },
  {
   "cell_type": "code",
   "execution_count": 22,
   "id": "0d4e9fe7",
   "metadata": {},
   "outputs": [],
   "source": [
    "# Step 4: Save the merged DataFrame to a new CSV file\n",
    "\n",
    "merged_df1.to_csv('merged_data1.csv', index=False)"
   ]
  },
  {
   "cell_type": "markdown",
   "id": "b8b7bb8e",
   "metadata": {},
   "source": [
    "## Handling Missing Data:"
   ]
  },
  {
   "cell_type": "code",
   "execution_count": 23,
   "id": "3ecea5a9",
   "metadata": {},
   "outputs": [
    {
     "data": {
      "text/plain": [
       "category     0\n",
       "month        0\n",
       "year         0\n",
       "clicks      30\n",
       "dtype: int64"
      ]
     },
     "execution_count": 23,
     "metadata": {},
     "output_type": "execute_result"
    }
   ],
   "source": [
    "#  Check for missing values in each column\n",
    "\n",
    "merged_df1.isnull().sum()"
   ]
  },
  {
   "cell_type": "code",
   "execution_count": 24,
   "id": "1b479a95",
   "metadata": {},
   "outputs": [
    {
     "data": {
      "text/html": [
       "<div>\n",
       "<style scoped>\n",
       "    .dataframe tbody tr th:only-of-type {\n",
       "        vertical-align: middle;\n",
       "    }\n",
       "\n",
       "    .dataframe tbody tr th {\n",
       "        vertical-align: top;\n",
       "    }\n",
       "\n",
       "    .dataframe thead th {\n",
       "        text-align: right;\n",
       "    }\n",
       "</style>\n",
       "<table border=\"1\" class=\"dataframe\">\n",
       "  <thead>\n",
       "    <tr style=\"text-align: right;\">\n",
       "      <th></th>\n",
       "      <th>category</th>\n",
       "      <th>month</th>\n",
       "      <th>year</th>\n",
       "      <th>clicks</th>\n",
       "    </tr>\n",
       "  </thead>\n",
       "  <tbody>\n",
       "    <tr>\n",
       "      <th>0</th>\n",
       "      <td>Coffee machine cleaning</td>\n",
       "      <td>3</td>\n",
       "      <td>2021</td>\n",
       "      <td>64776.0</td>\n",
       "    </tr>\n",
       "    <tr>\n",
       "      <th>1</th>\n",
       "      <td>Coffee machine cleaning</td>\n",
       "      <td>8</td>\n",
       "      <td>2021</td>\n",
       "      <td>49835.0</td>\n",
       "    </tr>\n",
       "    <tr>\n",
       "      <th>2</th>\n",
       "      <td>Coffee machine cleaning</td>\n",
       "      <td>12</td>\n",
       "      <td>2021</td>\n",
       "      <td>61787.0</td>\n",
       "    </tr>\n",
       "    <tr>\n",
       "      <th>3</th>\n",
       "      <td>Coffee machine cleaning</td>\n",
       "      <td>9</td>\n",
       "      <td>2021</td>\n",
       "      <td>51273.0</td>\n",
       "    </tr>\n",
       "    <tr>\n",
       "      <th>4</th>\n",
       "      <td>Coffee machine cleaning</td>\n",
       "      <td>11</td>\n",
       "      <td>2021</td>\n",
       "      <td>64788.0</td>\n",
       "    </tr>\n",
       "    <tr>\n",
       "      <th>...</th>\n",
       "      <td>...</td>\n",
       "      <td>...</td>\n",
       "      <td>...</td>\n",
       "      <td>...</td>\n",
       "    </tr>\n",
       "    <tr>\n",
       "      <th>1194</th>\n",
       "      <td>outdoor navigation</td>\n",
       "      <td>9</td>\n",
       "      <td>2021</td>\n",
       "      <td>57268.0</td>\n",
       "    </tr>\n",
       "    <tr>\n",
       "      <th>1196</th>\n",
       "      <td>outdoor navigation</td>\n",
       "      <td>12</td>\n",
       "      <td>2021</td>\n",
       "      <td>58532.0</td>\n",
       "    </tr>\n",
       "    <tr>\n",
       "      <th>1197</th>\n",
       "      <td>outdoor navigation</td>\n",
       "      <td>2</td>\n",
       "      <td>2021</td>\n",
       "      <td>47455.0</td>\n",
       "    </tr>\n",
       "    <tr>\n",
       "      <th>1198</th>\n",
       "      <td>outdoor navigation</td>\n",
       "      <td>10</td>\n",
       "      <td>2021</td>\n",
       "      <td>47619.0</td>\n",
       "    </tr>\n",
       "    <tr>\n",
       "      <th>1199</th>\n",
       "      <td>outdoor navigation</td>\n",
       "      <td>8</td>\n",
       "      <td>2021</td>\n",
       "      <td>69570.0</td>\n",
       "    </tr>\n",
       "  </tbody>\n",
       "</table>\n",
       "<p>1170 rows × 4 columns</p>\n",
       "</div>"
      ],
      "text/plain": [
       "                     category  month  year   clicks\n",
       "0     Coffee machine cleaning      3  2021  64776.0\n",
       "1     Coffee machine cleaning      8  2021  49835.0\n",
       "2     Coffee machine cleaning     12  2021  61787.0\n",
       "3     Coffee machine cleaning      9  2021  51273.0\n",
       "4     Coffee machine cleaning     11  2021  64788.0\n",
       "...                       ...    ...   ...      ...\n",
       "1194       outdoor navigation      9  2021  57268.0\n",
       "1196       outdoor navigation     12  2021  58532.0\n",
       "1197       outdoor navigation      2  2021  47455.0\n",
       "1198       outdoor navigation     10  2021  47619.0\n",
       "1199       outdoor navigation      8  2021  69570.0\n",
       "\n",
       "[1170 rows x 4 columns]"
      ]
     },
     "execution_count": 24,
     "metadata": {},
     "output_type": "execute_result"
    }
   ],
   "source": [
    "# Remove rows with missing values \n",
    "\n",
    "clean1_df = merged_df1.dropna()\n",
    "clean1_df"
   ]
  },
  {
   "cell_type": "markdown",
   "id": "0bb58dcf",
   "metadata": {},
   "source": [
    "## Handling Duplicates:"
   ]
  },
  {
   "cell_type": "code",
   "execution_count": 25,
   "id": "79c2da02",
   "metadata": {},
   "outputs": [
    {
     "data": {
      "text/plain": [
       "0       False\n",
       "1       False\n",
       "2       False\n",
       "3       False\n",
       "4       False\n",
       "        ...  \n",
       "1194    False\n",
       "1196    False\n",
       "1197    False\n",
       "1198    False\n",
       "1199    False\n",
       "Length: 1170, dtype: bool"
      ]
     },
     "execution_count": 25,
     "metadata": {},
     "output_type": "execute_result"
    }
   ],
   "source": [
    "# Check for duplicates\n",
    "\n",
    "duplicates = clean1_df.duplicated()\n",
    "duplicates"
   ]
  },
  {
   "cell_type": "code",
   "execution_count": 26,
   "id": "8ea109f3",
   "metadata": {},
   "outputs": [
    {
     "name": "stdout",
     "output_type": "stream",
     "text": [
      "Empty DataFrame\n",
      "Columns: [category, month, year, clicks]\n",
      "Index: []\n"
     ]
    }
   ],
   "source": [
    "# Print the rows that are duplicates\n",
    "\n",
    "print(clean1_df[duplicates])"
   ]
  },
  {
   "cell_type": "code",
   "execution_count": 27,
   "id": "7ecd01af",
   "metadata": {},
   "outputs": [
    {
     "name": "stdout",
     "output_type": "stream",
     "text": [
      "Number of duplicates: 0\n"
     ]
    }
   ],
   "source": [
    "num_duplicates = duplicates.sum()\n",
    "print(f\"Number of duplicates: {num_duplicates}\")"
   ]
  },
  {
   "cell_type": "code",
   "execution_count": 30,
   "id": "fb982457",
   "metadata": {},
   "outputs": [],
   "source": [
    "# Step 4: Save the merged DataFrame to a new CSV file\n",
    "\n",
    "clean1_df.to_csv('merged_and_clean_data.csv', index=False)"
   ]
  },
  {
   "cell_type": "code",
   "execution_count": null,
   "id": "5ea790c5",
   "metadata": {},
   "outputs": [],
   "source": []
  }
 ],
 "metadata": {
  "kernelspec": {
   "display_name": "Python 3 (ipykernel)",
   "language": "python",
   "name": "python3"
  },
  "language_info": {
   "codemirror_mode": {
    "name": "ipython",
    "version": 3
   },
   "file_extension": ".py",
   "mimetype": "text/x-python",
   "name": "python",
   "nbconvert_exporter": "python",
   "pygments_lexer": "ipython3",
   "version": "3.11.4"
  }
 },
 "nbformat": 4,
 "nbformat_minor": 5
}
